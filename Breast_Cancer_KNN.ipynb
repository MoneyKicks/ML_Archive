{
 "cells": [
  {
   "cell_type": "code",
   "execution_count": 11,
   "metadata": {},
   "outputs": [],
   "source": [
    "import numpy as np\n",
    "from sklearn.preprocessing import Imputer\n",
    "from sklearn.model_selection import train_test_split\n",
    "from sklearn.neighbors import KNeighborsClassifier\n",
    "from sklearn.metrics import accuracy_score\n",
    "import matplotlib.pyplot as plt\n",
    "%matplotlib inline"
   ]
  },
  {
   "cell_type": "code",
   "execution_count": 12,
   "metadata": {},
   "outputs": [],
   "source": [
    "data=np.genfromtxt(fname='/home/pawan/Desktop/breast-cancer-wisconsin.data.txt',delimiter=',',dtype=float)"
   ]
  },
  {
   "cell_type": "code",
   "execution_count": 13,
   "metadata": {},
   "outputs": [
    {
     "name": "stdout",
     "output_type": "stream",
     "text": [
      "(699, 11)\n",
      "[  1.00002500e+06   5.00000000e+00   1.00000000e+00   1.00000000e+00\n",
      "   1.00000000e+00   2.00000000e+00   1.00000000e+00   3.00000000e+00\n",
      "   1.00000000e+00   1.00000000e+00   2.00000000e+00]\n"
     ]
    }
   ],
   "source": [
    "print(np.shape(data))\n",
    "print(data[0,0:])"
   ]
  },
  {
   "cell_type": "code",
   "execution_count": 14,
   "metadata": {},
   "outputs": [
    {
     "name": "stdout",
     "output_type": "stream",
     "text": [
      "[[  5.   1.   1.   1.   2.   1.   3.   1.   1.   2.]\n",
      " [  5.   4.   4.   5.   7.  10.   3.   2.   1.   2.]\n",
      " [  3.   1.   1.   1.   2.   2.   3.   1.   1.   2.]\n",
      " [  6.   8.   8.   1.   3.   4.   3.   7.   1.   2.]\n",
      " [  4.   1.   1.   3.   2.   1.   3.   1.   1.   2.]]\n"
     ]
    }
   ],
   "source": [
    "new_data=np.delete(data,obj=0,axis=1)\n",
    "print(new_data[0:5,0:])"
   ]
  },
  {
   "cell_type": "code",
   "execution_count": 15,
   "metadata": {},
   "outputs": [],
   "source": [
    "X=new_data[:,:9]\n",
    "Y=new_data[:,9]"
   ]
  },
  {
   "cell_type": "code",
   "execution_count": 16,
   "metadata": {},
   "outputs": [],
   "source": [
    "new_data=Imputer(missing_values='NaN',strategy='median',axis=0)\n",
    "X=new_data.fit_transform(X)"
   ]
  },
  {
   "cell_type": "code",
   "execution_count": 17,
   "metadata": {},
   "outputs": [],
   "source": [
    "X_train,X_test,Y_train,Y_test=train_test_split(X,Y,test_size=0.4,random_state=12)\n",
    "Y_test=Y_test.ravel()\n",
    "Y_train=Y_train.ravel()"
   ]
  },
  {
   "cell_type": "code",
   "execution_count": 18,
   "metadata": {},
   "outputs": [
    {
     "name": "stdout",
     "output_type": "stream",
     "text": [
      "96.4285714286\n",
      "94.6428571429\n",
      "97.8571428571\n",
      "97.5\n",
      "98.2142857143\n",
      "97.8571428571\n",
      "98.2142857143\n",
      "98.2142857143\n",
      "98.2142857143\n",
      "98.2142857143\n",
      "98.2142857143\n",
      "98.2142857143\n",
      "98.2142857143\n",
      "97.8571428571\n",
      "97.8571428571\n",
      "97.8571428571\n",
      "97.8571428571\n",
      "97.8571428571\n",
      "97.8571428571\n",
      "97.5\n",
      "97.8571428571\n",
      "97.5\n",
      "97.8571428571\n",
      "97.5\n"
     ]
    }
   ],
   "source": [
    "acc=[]\n",
    "for k in range(1,25):\n",
    "    neigh = KNeighborsClassifier(n_neighbors = k, weights='uniform', algorithm='auto')\n",
    "    neigh.fit(X_train, Y_train) \n",
    "    y_pred = neigh.predict(X_test)\n",
    "    print (accuracy_score(Y_test,y_pred)*100)\n",
    "    acc.append(accuracy_score(Y_test,y_pred)*100)"
   ]
  },
  {
   "cell_type": "code",
   "execution_count": 19,
   "metadata": {},
   "outputs": [
    {
     "data": {
      "image/png": "[encoded data removed]",
      "text/plain": [
       "<Figure size 432x288 with 1 Axes>"
      ]
     },
     "metadata": {},
     "output_type": "display_data"
    }
   ],
   "source": [
    "k=range(1,25)\n",
    "plt.plot(k,acc)\n",
    "plt.show()"
   ]
  },
  {
   "cell_type": "code",
   "execution_count": null,
   "metadata": {},
   "outputs": [],
   "source": []
  }
 ],
 "metadata": {
  "kernelspec": {
   "display_name": "Python 3",
   "language": "python",
   "name": "python3"
  },
  "language_info": {
   "codemirror_mode": {
    "name": "ipython",
    "version": 3
   },
   "file_extension": ".py",
   "mimetype": "text/x-python",
   "name": "python",
   "nbconvert_exporter": "python",
   "pygments_lexer": "ipython3",
   "version": "3.6.5"
  }
 },
 "nbformat": 4,
 "nbformat_minor": 2
}
