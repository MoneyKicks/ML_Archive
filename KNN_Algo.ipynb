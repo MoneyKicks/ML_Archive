{
 "cells": [
  {
   "cell_type": "code",
   "execution_count": 3,
   "metadata": {},
   "outputs": [],
   "source": [
    "import numpy as np\n",
    "import matplotlib.pyplot as plt\n",
    "import pandas as pd\n",
    "%matplotlib inline"
   ]
  },
  {
   "cell_type": "code",
   "execution_count": 4,
   "metadata": {},
   "outputs": [],
   "source": [
    "mean_1=np.array([0.0,0.0])\n",
    "cov_1=np.array([[1.0,0.1],[0.1,1.1]])\n",
    "mean_2=np.array([5.0,6.0])\n",
    "cov_2=np.array([[1.3,0.2],[0.2,1.5]])\n",
    "\n",
    "dist_1=np.random.multivariate_normal(mean_1,cov_1,500)    # Generates a set of 500 pts. satisfying mean_1 & cov_1 criteria\n",
    "dist_2=np.random.multivariate_normal(mean_2,cov_2,500)    #Generates a set of 500 pts. satisfying mean_2 & cov_2 criteria"
   ]
  },
  {
   "cell_type": "code",
   "execution_count": 5,
   "metadata": {},
   "outputs": [
    {
     "data": {
      "image/png": "[encoded data removed]",
      "text/plain": [
       "<Figure size 432x288 with 1 Axes>"
      ]
     },
     "metadata": {},
     "output_type": "display_data"
    }
   ],
   "source": [
    "for i in dist_1:\n",
    "    plt.scatter(i[0],i[1],color='red')\n",
    "for i in dist_2:\n",
    "    plt.scatter(i[0],i[1],color='green')"
   ]
  },
  {
   "cell_type": "code",
   "execution_count": 6,
   "metadata": {},
   "outputs": [
    {
     "name": "stdout",
     "output_type": "stream",
     "text": [
      "(1000, 3)\n",
      "float64\n"
     ]
    }
   ],
   "source": [
    "rows=dist_1.shape[0]+dist_2.shape[0]\n",
    "cols=dist_1.shape[1]+1\n",
    "data=np.zeros((rows,cols))\n",
    "print(data.shape)\n",
    "print(data.dtype)"
   ]
  },
  {
   "cell_type": "code",
   "execution_count": 7,
   "metadata": {},
   "outputs": [],
   "source": [
    "data[:dist_1.shape[0],:-1]=dist_1\n",
    "data[dist_1.shape[0]:rows , :-1]=dist_2\n",
    "data[dist_1.shape[0]:rows,-1]=1"
   ]
  },
  {
   "cell_type": "code",
   "execution_count": 8,
   "metadata": {},
   "outputs": [
    {
     "data": {
      "text/plain": [
       "array([[ 4.12281035,  6.41616038,  1.        ],\n",
       "       [-0.99441552, -1.19269196,  0.        ],\n",
       "       [ 5.336526  ,  3.96838857,  1.        ],\n",
       "       [ 4.89203623,  3.52210589,  1.        ],\n",
       "       [ 0.38926141,  0.03948055,  0.        ],\n",
       "       [ 5.79819687,  7.15418929,  1.        ],\n",
       "       [-0.50981187, -0.28624605,  0.        ],\n",
       "       [ 4.61213759,  3.26829311,  1.        ],\n",
       "       [ 1.51495649, -1.77105505,  0.        ],\n",
       "       [ 4.89212989,  4.04826769,  1.        ]])"
      ]
     },
     "execution_count": 8,
     "metadata": {},
     "output_type": "execute_result"
    }
   ],
   "source": [
    "np.random.shuffle(data)\n",
    "data[:10]"
   ]
  },
  {
   "cell_type": "code",
   "execution_count": 9,
   "metadata": {},
   "outputs": [
    {
     "name": "stdout",
     "output_type": "stream",
     "text": [
      "(850, 3)\n",
      "(150, 3)\n",
      "(850, 2)\n",
      "(850,)\n",
      "(150, 2)\n",
      "(150,)\n"
     ]
    }
   ],
   "source": [
    "split_factor=0.85\n",
    "split=int(data.shape[0]*split_factor)\n",
    "train=data[:split]\n",
    "test=data[split:]\n",
    "print(np.shape(train))\n",
    "print(np.shape(test))\n",
    "\n",
    "x_train=train[:,:-1]\n",
    "y_train=train[:,-1]\n",
    "\n",
    "x_test=test[:,:-1]\n",
    "y_test=test[:,-1]\n",
    "\n",
    "print(np.shape(x_train))\n",
    "print(np.shape(y_train))\n",
    "print(np.shape(x_test))\n",
    "print(np.shape(y_test))"
   ]
  },
  {
   "cell_type": "code",
   "execution_count": 10,
   "metadata": {},
   "outputs": [
    {
     "name": "stdout",
     "output_type": "stream",
     "text": [
      "(array([ 0.,  1.]), array([430, 420]))\n",
      "(array([ 0.,  1.]), array([70, 80]))\n"
     ]
    }
   ],
   "source": [
    "  # Returns the list of repeated elements & theirs counts(number of times of occurance\n",
    "print(np.unique(y_train,return_counts=True)) \n",
    "print(np.unique(y_test,return_counts=True))"
   ]
  },
  {
   "cell_type": "code",
   "execution_count": 11,
   "metadata": {},
   "outputs": [
    {
     "name": "stdout",
     "output_type": "stream",
     "text": [
      "1.41421356237\n"
     ]
    }
   ],
   "source": [
    "# Distance Function\n",
    "def Distance(p1,p2):\n",
    "    ans=np.sqrt(((p1-p2)**2).sum())\n",
    "    return ans\n",
    "# Convert to numpy array as list won't be accepted coz np.sqrt() works only on numpy arrays\n",
    "print(Distance(np.array([1.0,1.0]),np.array([0.0,0.0])))"
   ]
  },
  {
   "cell_type": "code",
   "execution_count": 12,
   "metadata": {},
   "outputs": [],
   "source": [
    "def KNN(test_point,x_train,y_train,k=5):\n",
    "    d=[]\n",
    "    for i in range(x_train.shape[0]):\n",
    "        dist=Distance(test_point,x_train[i])           #For each training sample find distance b/w test & sample pt.\n",
    "        d.append((dist,y_train[i]))                    # Add it to the list \n",
    "    d=np.array(d)                                      # Make it a numpy array\n",
    "    sorted_val=sorted(d,key=lambda z:z[0])             # Sort it on the basis of distance\n",
    "    sorted_val=np.array(sorted_val)[:k]                # Slice the nearest k contenders of the neighbours\n",
    "    freq=np.unique(sorted_val[:,-1],return_counts=True) # It returns 2 list one for unique elements other for their counts\n",
    "                                                       # So in 2nd list find index of max value using argmax()\n",
    "    label=freq[0][freq[1].argmax()]                    # then in 1st list look for the same index value to find label of max value\n",
    "    return label"
   ]
  },
  {
   "cell_type": "code",
   "execution_count": 13,
   "metadata": {},
   "outputs": [
    {
     "name": "stdout",
     "output_type": "stream",
     "text": [
      "1.0\n"
     ]
    }
   ],
   "source": [
    "print(KNN(np.array([3,5]),x_train,y_train))"
   ]
  },
  {
   "cell_type": "code",
   "execution_count": 14,
   "metadata": {},
   "outputs": [],
   "source": [
    "def get_acc(x_test, y_test, x_train, y_train, K=5):\n",
    "    '''This is homework assignment'''\n",
    "    ##return accuracy\n",
    "    count=0;\n",
    "    for i in range(x_test.shape[0]):\n",
    "        if y_test[i]==KNN(x_test[i],x_train,y_train):\n",
    "            count+=1\n",
    "    \n",
    "    return (count/y_train.shape[0])*100"
   ]
  },
  {
   "cell_type": "code",
   "execution_count": 15,
   "metadata": {},
   "outputs": [
    {
     "name": "stdout",
     "output_type": "stream",
     "text": [
      "17.647058823529413\n"
     ]
    }
   ],
   "source": [
    "print(get_acc(x_test,y_test,x_train,y_train))"
   ]
  },
  {
   "cell_type": "code",
   "execution_count": 16,
   "metadata": {},
   "outputs": [
    {
     "data": {
      "text/html": [
       "<div>\n",
       "<style scoped>\n",
       "    .dataframe tbody tr th:only-of-type {\n",
       "        vertical-align: middle;\n",
       "    }\n",
       "\n",
       "    .dataframe tbody tr th {\n",
       "        vertical-align: top;\n",
       "    }\n",
       "\n",
       "    .dataframe thead th {\n",
       "        text-align: right;\n",
       "    }\n",
       "</style>\n",
       "<table border=\"1\" class=\"dataframe\">\n",
       "  <thead>\n",
       "    <tr style=\"text-align: right;\">\n",
       "      <th></th>\n",
       "      <th>label</th>\n",
       "      <th>pixel1</th>\n",
       "      <th>pixel2</th>\n",
       "      <th>pixel3</th>\n",
       "      <th>pixel4</th>\n",
       "      <th>pixel5</th>\n",
       "      <th>pixel6</th>\n",
       "      <th>pixel7</th>\n",
       "      <th>pixel8</th>\n",
       "      <th>pixel9</th>\n",
       "      <th>...</th>\n",
       "      <th>pixel775</th>\n",
       "      <th>pixel776</th>\n",
       "      <th>pixel777</th>\n",
       "      <th>pixel778</th>\n",
       "      <th>pixel779</th>\n",
       "      <th>pixel780</th>\n",
       "      <th>pixel781</th>\n",
       "      <th>pixel782</th>\n",
       "      <th>pixel783</th>\n",
       "      <th>pixel784</th>\n",
       "    </tr>\n",
       "  </thead>\n",
       "  <tbody>\n",
       "    <tr>\n",
       "      <th>0</th>\n",
       "      <td>2</td>\n",
       "      <td>0</td>\n",
       "      <td>0</td>\n",
       "      <td>0</td>\n",
       "      <td>0</td>\n",
       "      <td>0</td>\n",
       "      <td>0</td>\n",
       "      <td>0</td>\n",
       "      <td>0</td>\n",
       "      <td>0</td>\n",
       "      <td>...</td>\n",
       "      <td>0</td>\n",
       "      <td>0</td>\n",
       "      <td>0</td>\n",
       "      <td>0</td>\n",
       "      <td>0</td>\n",
       "      <td>0</td>\n",
       "      <td>0</td>\n",
       "      <td>0</td>\n",
       "      <td>0</td>\n",
       "      <td>0</td>\n",
       "    </tr>\n",
       "    <tr>\n",
       "      <th>1</th>\n",
       "      <td>9</td>\n",
       "      <td>0</td>\n",
       "      <td>0</td>\n",
       "      <td>0</td>\n",
       "      <td>0</td>\n",
       "      <td>0</td>\n",
       "      <td>0</td>\n",
       "      <td>0</td>\n",
       "      <td>0</td>\n",
       "      <td>0</td>\n",
       "      <td>...</td>\n",
       "      <td>0</td>\n",
       "      <td>0</td>\n",
       "      <td>0</td>\n",
       "      <td>0</td>\n",
       "      <td>0</td>\n",
       "      <td>0</td>\n",
       "      <td>0</td>\n",
       "      <td>0</td>\n",
       "      <td>0</td>\n",
       "      <td>0</td>\n",
       "    </tr>\n",
       "    <tr>\n",
       "      <th>2</th>\n",
       "      <td>6</td>\n",
       "      <td>0</td>\n",
       "      <td>0</td>\n",
       "      <td>0</td>\n",
       "      <td>0</td>\n",
       "      <td>0</td>\n",
       "      <td>0</td>\n",
       "      <td>0</td>\n",
       "      <td>5</td>\n",
       "      <td>0</td>\n",
       "      <td>...</td>\n",
       "      <td>0</td>\n",
       "      <td>0</td>\n",
       "      <td>0</td>\n",
       "      <td>30</td>\n",
       "      <td>43</td>\n",
       "      <td>0</td>\n",
       "      <td>0</td>\n",
       "      <td>0</td>\n",
       "      <td>0</td>\n",
       "      <td>0</td>\n",
       "    </tr>\n",
       "  </tbody>\n",
       "</table>\n",
       "<p>3 rows × 785 columns</p>\n",
       "</div>"
      ],
      "text/plain": [
       "   label  pixel1  pixel2  pixel3  pixel4  pixel5  pixel6  pixel7  pixel8  \\\n",
       "0      2       0       0       0       0       0       0       0       0   \n",
       "1      9       0       0       0       0       0       0       0       0   \n",
       "2      6       0       0       0       0       0       0       0       5   \n",
       "\n",
       "   pixel9    ...     pixel775  pixel776  pixel777  pixel778  pixel779  \\\n",
       "0       0    ...            0         0         0         0         0   \n",
       "1       0    ...            0         0         0         0         0   \n",
       "2       0    ...            0         0         0        30        43   \n",
       "\n",
       "   pixel780  pixel781  pixel782  pixel783  pixel784  \n",
       "0         0         0         0         0         0  \n",
       "1         0         0         0         0         0  \n",
       "2         0         0         0         0         0  \n",
       "\n",
       "[3 rows x 785 columns]"
      ]
     },
     "execution_count": 16,
     "metadata": {},
     "output_type": "execute_result"
    }
   ],
   "source": [
    "raw_data=pd.read_csv('/home/pawan/Desktop/fashionmnist/fashion-mnist_train.csv')\n",
    "raw_data.head(3)"
   ]
  },
  {
   "cell_type": "code",
   "execution_count": 17,
   "metadata": {},
   "outputs": [
    {
     "data": {
      "text/plain": [
       "(60000, 785)"
      ]
     },
     "execution_count": 17,
     "metadata": {},
     "output_type": "execute_result"
    }
   ],
   "source": [
    "data=np.array(raw_data)\n",
    "np.shape(data)"
   ]
  },
  {
   "cell_type": "code",
   "execution_count": 18,
   "metadata": {},
   "outputs": [
    {
     "name": "stdout",
     "output_type": "stream",
     "text": [
      "(4000, 784)\n",
      "(4000,)\n"
     ]
    },
    {
     "data": {
      "text/plain": [
       "array([0, 1, 2, 3, 4, 5, 6, 7, 8, 9])"
      ]
     },
     "execution_count": 18,
     "metadata": {},
     "output_type": "execute_result"
    }
   ],
   "source": [
    "limit=4000\n",
    "X=data[:limit,1:]\n",
    "Y=data[:limit,0]\n",
    "print(np.shape(X))\n",
    "print(np.shape(Y))\n",
    "np.unique(Y)"
   ]
  },
  {
   "cell_type": "code",
   "execution_count": 19,
   "metadata": {},
   "outputs": [],
   "source": [
    "split_factor=0.85\n",
    "split=int(0.85*X.shape[0])\n",
    "X_train=X[:split,:-1]\n",
    "Y_train=Y[:split]\n",
    "X_test=X[split:,:-1]\n",
    "Y_test=Y[split:]"
   ]
  },
  {
   "cell_type": "code",
   "execution_count": 20,
   "metadata": {},
   "outputs": [],
   "source": [
    "def predicted(X_test,Y_test,X_train,Y_train,k=5):\n",
    "    count=0\n",
    "    for i in range(X_test.shape[0]):\n",
    "        if Y_test[i]==KNN(X_test[i],X_train,Y_train):\n",
    "            count+=1\n",
    "    return (count/len(Y_test))*100"
   ]
  },
  {
   "cell_type": "code",
   "execution_count": 21,
   "metadata": {},
   "outputs": [
    {
     "name": "stdout",
     "output_type": "stream",
     "text": [
      "82.33333333333334\n"
     ]
    }
   ],
   "source": [
    "print(predicted(X_test,Y_test,X_train,Y_train))"
   ]
  },
  {
   "cell_type": "code",
   "execution_count": null,
   "metadata": {},
   "outputs": [],
   "source": []
  }
 ],
 "metadata": {
  "kernelspec": {
   "display_name": "Python 3",
   "language": "python",
   "name": "python3"
  },
  "language_info": {
   "codemirror_mode": {
    "name": "ipython",
    "version": 3
   },
   "file_extension": ".py",
   "mimetype": "text/x-python",
   "name": "python",
   "nbconvert_exporter": "python",
   "pygments_lexer": "ipython3",
   "version": "3.6.5"
  }
 },
 "nbformat": 4,
 "nbformat_minor": 2
}
