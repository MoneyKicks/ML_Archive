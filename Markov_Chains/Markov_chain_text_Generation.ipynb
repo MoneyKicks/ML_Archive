{
 "cells": [
  {
   "cell_type": "code",
   "execution_count": 239,
   "metadata": {},
   "outputs": [],
   "source": [
    "import numpy as np\n",
    "import random"
   ]
  },
  {
   "cell_type": "code",
   "execution_count": 240,
   "metadata": {},
   "outputs": [],
   "source": [
    "f=open(\"/home/pawan/input.txt\",'r')            # Change the path before using\n",
    "ds=f.read()\n",
    "f.close()"
   ]
  },
  {
   "cell_type": "code",
   "execution_count": 241,
   "metadata": {},
   "outputs": [
    {
     "data": {
      "text/plain": [
       "'a study in scarlet      table of contents  part i mr. sherlock holmes the science of deduction the l'"
      ]
     },
     "execution_count": 241,
     "metadata": {},
     "output_type": "execute_result"
    }
   ],
   "source": [
    "start=2500\n",
    "length=50000\n",
    "\n",
    "sliced_data=ds[2500:52500]\n",
    "\n",
    "split_about_space=sliced_data.split('\\n')\n",
    "data=[]\n",
    "for each_word in split_about_space :\n",
    "    data.append(each_word.strip())  \n",
    "data=\" \".join(data[:]).lower()\n",
    "data[:100]"
   ]
  },
  {
   "cell_type": "code",
   "execution_count": 242,
   "metadata": {},
   "outputs": [
    {
     "name": "stdout",
     "output_type": "stream",
     "text": [
      "45844\n",
      "{'m', '\"', 'y', 'a', 'f', 'w', 'p', 'k', ' ', '1', '4', 'g', 's', 'o', '3', 'u', '(', 'x', '-', 'j', 'd', \"'\", 'i', 'z', '.', 'v', '5', '6', ':', 'r', 'l', ',', '8', '9', 'e', ')', 'n', '7', 'b', 't', 'c', ';', '2', '0', '?', 'q', '!', 'h'}\n",
      "48\n"
     ]
    }
   ],
   "source": [
    "x=set()\n",
    "print(len(data))\n",
    "for each_word in data:\n",
    "    x.add(each_word)\n",
    "print(x)\n",
    "print(len(x))"
   ]
  },
  {
   "cell_type": "code",
   "execution_count": 243,
   "metadata": {},
   "outputs": [],
   "source": [
    "#Transition Matrix\n",
    "T={}\n",
    "\n",
    "# Order context\n",
    "order = 3\n",
    "\n",
    "for ix in range(len(data) - order):\n",
    "    cntx=data[ix : ix + order]\n",
    "    future_value = data[ix + order]\n",
    "    \n",
    "    if T.get(cntx) is None :\n",
    "        T[cntx]={}\n",
    "        T[cntx][future_value] = 1\n",
    "    else :\n",
    "        if T[cntx].get(future_value) is None :\n",
    "            T[cntx][future_value]=1\n",
    "        else :\n",
    "            T[cntx][future_value] = T[cntx][future_value] + 1"
   ]
  },
  {
   "cell_type": "code",
   "execution_count": 269,
   "metadata": {},
   "outputs": [],
   "source": [
    "# Transition Probability Matrix \n",
    "for key in T.keys():\n",
    "    predicted = T[key]\n",
    "    #print(predicted)\n",
    "    total = float(sum(T[key].values()))\n",
    "    #print(total)\n",
    "    for k in T[key].keys() :\n",
    "        T[key][k] = T[key][k] / total\n",
    "    #print(list(T[key].values()))"
   ]
  },
  {
   "cell_type": "code",
   "execution_count": 270,
   "metadata": {},
   "outputs": [],
   "source": [
    "def generate_next_char(word_till_now) :\n",
    "    predicted_chars = T.get(word_till_now)  # Returns a dictionary of next chars as keys and their probability as values\n",
    "    #print(predicted_chars)\n",
    "    if predicted_chars is None :\n",
    "        return \" \"\n",
    "    \n",
    "    shuffled_keys = list(predicted_chars.keys())\n",
    "    random.shuffle(shuffled_keys)         # Shuffle the list of next chars to prevent any biased decision\n",
    "    #print(shuffled_keys)\n",
    "    \n",
    "    r=np.random.random()                 # Use a random number to set the threshold such that if probability of next character is greater than this random value then that character is returned\n",
    "    \n",
    "    key_probs = []\n",
    "    for kx in shuffled_keys:\n",
    "        key_probs.append(predicted_chars[kx])             # Add the probability of each member (who is eligible for next character) in a list\n",
    "    \n",
    "    for k in range(len(key_probs)):\n",
    "        if r < key_probs[k] :\n",
    "            return shuffled_keys[k]\n",
    "    return random.choice(shuffled_keys)                  # If none of the probability exceeds the random value then choose any random character out of the eligible ones\n",
    "    #return shuffled_keys[np.argmax(key_probs)]"
   ]
  },
  {
   "cell_type": "code",
   "execution_count": 260,
   "metadata": {},
   "outputs": [
    {
     "name": "stdout",
     "output_type": "stream",
     "text": [
      " \n"
     ]
    }
   ],
   "source": [
    "print(generate_next_char('s'))\n",
    "T.get('s')"
   ]
  },
  {
   "cell_type": "code",
   "execution_count": 268,
   "metadata": {},
   "outputs": [
    {
     "name": "stdout",
     "output_type": "stream",
     "text": [
      " cals, to you, is jar. somewhat vers tend intest it! i'm notter you, ohion weeks. surres.\"  \"the papers \n"
     ]
    }
   ],
   "source": [
    "rand_index=int(np.random.rand()*len(data)-order) # Choose a random index value to start from\n",
    "initials=data[rand_index : rand_index+order]    # choose an initial string from that index value till the order - 1\n",
    "context = initials                              \n",
    "num_of_chars = 100                              # Length of sentence to be predicted\n",
    "sentence = ' '+context\n",
    "\n",
    "for i in range(num_of_chars):\n",
    "    sentence += generate_next_char(context)     # Generate a char and add to sentence\n",
    "    context = sentence[-order : ]\n",
    "    \n",
    "print(sentence)"
   ]
  }
 ],
 "metadata": {
  "kernelspec": {
   "display_name": "Python 3",
   "language": "python",
   "name": "python3"
  },
  "language_info": {
   "codemirror_mode": {
    "name": "ipython",
    "version": 3
   },
   "file_extension": ".py",
   "mimetype": "text/x-python",
   "name": "python",
   "nbconvert_exporter": "python",
   "pygments_lexer": "ipython3",
   "version": "3.6.5"
  }
 },
 "nbformat": 4,
 "nbformat_minor": 2
}
